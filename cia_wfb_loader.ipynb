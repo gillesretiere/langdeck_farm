{
  "cells": [
    {
      "cell_type": "markdown",
      "metadata": {
        "id": "view-in-github",
        "colab_type": "text"
      },
      "source": [
        "<a href=\"https://colab.research.google.com/github/gillesretiere/langdeck_farm/blob/main/cia_wfb_loader.ipynb\" target=\"_parent\"><img src=\"https://colab.research.google.com/assets/colab-badge.svg\" alt=\"Open In Colab\"/></a>"
      ]
    },
    {
      "cell_type": "code",
      "source": [
        "#!/usr/bin/env python\n",
        "# -*- coding: utf8 -*-\n",
        "import pandas as pd\n",
        "pd.set_option(\"display.width\",1000)\n",
        "pd.options.mode.chained_assignment = None  # default='warn'\n",
        "\n",
        "import numpy as np\n",
        "import requests\n",
        "import json\n",
        "import uuid\n",
        "from datetime import datetime\n",
        "import datetime\n",
        "import re\n",
        "import string\n",
        "import unicodedata\n",
        "\n",
        "# Gspread  API for Google sheets\n",
        "!pip install gspread --upgrade\n",
        "# fix here => https://stackoverflow.com/questions/71347973/modulenotfounderror-no-module-named-gspread-models\n",
        "!pip uninstall -y gspread-dataframe\n",
        "!pip install gspread-dataframe\n",
        "!pip install gspread-formatting\n",
        "\n",
        "#==== Google Drive \n",
        "from google.colab import drive\n",
        "drive.mount('/content/drive')\n",
        "%cd /content/drive/MyDrive/langdeck/\n",
        "from google.colab import files\n",
        "from google.colab import auth\n",
        "auth.authenticate_user()\n",
        "\n",
        "#====== Google Credentials ================\n",
        "from oauth2client.client import GoogleCredentials\n",
        "# fix here => https://github.com/burnash/gspread/issues/1014\n",
        "from google.auth import default\n",
        "creds, _ = default()\n",
        "\n",
        "#====== GSpread is a Python API for Google Sheets.================\n",
        "import gspread\n",
        "from gspread_dataframe import get_as_dataframe, set_with_dataframe\n",
        "from gspread_formatting import *\n",
        "gc = gspread.authorize(creds)\n",
        "\n",
        "\n",
        "!export PYTHONIOENCODING=utf8"
      ],
      "metadata": {
        "id": "Ws56QhZJKJG-",
        "colab": {
          "base_uri": "https://localhost:8080/"
        },
        "outputId": "8177e709-5d20-4741-967c-8b476d5f763f"
      },
      "execution_count": 1,
      "outputs": [
        {
          "output_type": "stream",
          "name": "stdout",
          "text": [
            "Looking in indexes: https://pypi.org/simple, https://us-python.pkg.dev/colab-wheels/public/simple/\n",
            "Requirement already satisfied: gspread in /usr/local/lib/python3.8/dist-packages (3.4.2)\n",
            "Collecting gspread\n",
            "  Downloading gspread-5.7.2-py3-none-any.whl (40 kB)\n",
            "\u001b[2K     \u001b[90m━━━━━━━━━━━━━━━━━━━━━━━━━━━━━━━━━━━━━━━━\u001b[0m \u001b[32m40.5/40.5 KB\u001b[0m \u001b[31m1.5 MB/s\u001b[0m eta \u001b[36m0:00:00\u001b[0m\n",
            "\u001b[?25hRequirement already satisfied: google-auth>=1.12.0 in /usr/local/lib/python3.8/dist-packages (from gspread) (2.16.0)\n",
            "Requirement already satisfied: google-auth-oauthlib>=0.4.1 in /usr/local/lib/python3.8/dist-packages (from gspread) (0.4.6)\n",
            "Requirement already satisfied: cachetools<6.0,>=2.0.0 in /usr/local/lib/python3.8/dist-packages (from google-auth>=1.12.0->gspread) (5.3.0)\n",
            "Requirement already satisfied: pyasn1-modules>=0.2.1 in /usr/local/lib/python3.8/dist-packages (from google-auth>=1.12.0->gspread) (0.2.8)\n",
            "Requirement already satisfied: six>=1.9.0 in /usr/local/lib/python3.8/dist-packages (from google-auth>=1.12.0->gspread) (1.15.0)\n",
            "Requirement already satisfied: rsa<5,>=3.1.4 in /usr/local/lib/python3.8/dist-packages (from google-auth>=1.12.0->gspread) (4.9)\n",
            "Requirement already satisfied: requests-oauthlib>=0.7.0 in /usr/local/lib/python3.8/dist-packages (from google-auth-oauthlib>=0.4.1->gspread) (1.3.1)\n",
            "Requirement already satisfied: pyasn1<0.5.0,>=0.4.6 in /usr/local/lib/python3.8/dist-packages (from pyasn1-modules>=0.2.1->google-auth>=1.12.0->gspread) (0.4.8)\n",
            "Requirement already satisfied: oauthlib>=3.0.0 in /usr/local/lib/python3.8/dist-packages (from requests-oauthlib>=0.7.0->google-auth-oauthlib>=0.4.1->gspread) (3.2.2)\n",
            "Requirement already satisfied: requests>=2.0.0 in /usr/local/lib/python3.8/dist-packages (from requests-oauthlib>=0.7.0->google-auth-oauthlib>=0.4.1->gspread) (2.25.1)\n",
            "Requirement already satisfied: idna<3,>=2.5 in /usr/local/lib/python3.8/dist-packages (from requests>=2.0.0->requests-oauthlib>=0.7.0->google-auth-oauthlib>=0.4.1->gspread) (2.10)\n",
            "Requirement already satisfied: certifi>=2017.4.17 in /usr/local/lib/python3.8/dist-packages (from requests>=2.0.0->requests-oauthlib>=0.7.0->google-auth-oauthlib>=0.4.1->gspread) (2022.12.7)\n",
            "Requirement already satisfied: chardet<5,>=3.0.2 in /usr/local/lib/python3.8/dist-packages (from requests>=2.0.0->requests-oauthlib>=0.7.0->google-auth-oauthlib>=0.4.1->gspread) (4.0.0)\n",
            "Requirement already satisfied: urllib3<1.27,>=1.21.1 in /usr/local/lib/python3.8/dist-packages (from requests>=2.0.0->requests-oauthlib>=0.7.0->google-auth-oauthlib>=0.4.1->gspread) (1.24.3)\n",
            "Installing collected packages: gspread\n",
            "  Attempting uninstall: gspread\n",
            "    Found existing installation: gspread 3.4.2\n",
            "    Uninstalling gspread-3.4.2:\n",
            "      Successfully uninstalled gspread-3.4.2\n",
            "Successfully installed gspread-5.7.2\n",
            "Found existing installation: gspread-dataframe 3.0.8\n",
            "Uninstalling gspread-dataframe-3.0.8:\n",
            "  Successfully uninstalled gspread-dataframe-3.0.8\n",
            "Looking in indexes: https://pypi.org/simple, https://us-python.pkg.dev/colab-wheels/public/simple/\n",
            "Collecting gspread-dataframe\n",
            "  Downloading gspread_dataframe-3.3.0-py2.py3-none-any.whl (7.9 kB)\n",
            "Requirement already satisfied: six>=1.12.0 in /usr/local/lib/python3.8/dist-packages (from gspread-dataframe) (1.15.0)\n",
            "Requirement already satisfied: pandas>=0.24.0 in /usr/local/lib/python3.8/dist-packages (from gspread-dataframe) (1.3.5)\n",
            "Requirement already satisfied: gspread>=3.0.0 in /usr/local/lib/python3.8/dist-packages (from gspread-dataframe) (5.7.2)\n",
            "Requirement already satisfied: google-auth-oauthlib>=0.4.1 in /usr/local/lib/python3.8/dist-packages (from gspread>=3.0.0->gspread-dataframe) (0.4.6)\n",
            "Requirement already satisfied: google-auth>=1.12.0 in /usr/local/lib/python3.8/dist-packages (from gspread>=3.0.0->gspread-dataframe) (2.16.0)\n",
            "Requirement already satisfied: pytz>=2017.3 in /usr/local/lib/python3.8/dist-packages (from pandas>=0.24.0->gspread-dataframe) (2022.7.1)\n",
            "Requirement already satisfied: numpy>=1.17.3 in /usr/local/lib/python3.8/dist-packages (from pandas>=0.24.0->gspread-dataframe) (1.22.4)\n",
            "Requirement already satisfied: python-dateutil>=2.7.3 in /usr/local/lib/python3.8/dist-packages (from pandas>=0.24.0->gspread-dataframe) (2.8.2)\n",
            "Requirement already satisfied: rsa<5,>=3.1.4 in /usr/local/lib/python3.8/dist-packages (from google-auth>=1.12.0->gspread>=3.0.0->gspread-dataframe) (4.9)\n",
            "Requirement already satisfied: pyasn1-modules>=0.2.1 in /usr/local/lib/python3.8/dist-packages (from google-auth>=1.12.0->gspread>=3.0.0->gspread-dataframe) (0.2.8)\n",
            "Requirement already satisfied: cachetools<6.0,>=2.0.0 in /usr/local/lib/python3.8/dist-packages (from google-auth>=1.12.0->gspread>=3.0.0->gspread-dataframe) (5.3.0)\n",
            "Requirement already satisfied: requests-oauthlib>=0.7.0 in /usr/local/lib/python3.8/dist-packages (from google-auth-oauthlib>=0.4.1->gspread>=3.0.0->gspread-dataframe) (1.3.1)\n",
            "Requirement already satisfied: pyasn1<0.5.0,>=0.4.6 in /usr/local/lib/python3.8/dist-packages (from pyasn1-modules>=0.2.1->google-auth>=1.12.0->gspread>=3.0.0->gspread-dataframe) (0.4.8)\n",
            "Requirement already satisfied: requests>=2.0.0 in /usr/local/lib/python3.8/dist-packages (from requests-oauthlib>=0.7.0->google-auth-oauthlib>=0.4.1->gspread>=3.0.0->gspread-dataframe) (2.25.1)\n",
            "Requirement already satisfied: oauthlib>=3.0.0 in /usr/local/lib/python3.8/dist-packages (from requests-oauthlib>=0.7.0->google-auth-oauthlib>=0.4.1->gspread>=3.0.0->gspread-dataframe) (3.2.2)\n",
            "Requirement already satisfied: certifi>=2017.4.17 in /usr/local/lib/python3.8/dist-packages (from requests>=2.0.0->requests-oauthlib>=0.7.0->google-auth-oauthlib>=0.4.1->gspread>=3.0.0->gspread-dataframe) (2022.12.7)\n",
            "Requirement already satisfied: idna<3,>=2.5 in /usr/local/lib/python3.8/dist-packages (from requests>=2.0.0->requests-oauthlib>=0.7.0->google-auth-oauthlib>=0.4.1->gspread>=3.0.0->gspread-dataframe) (2.10)\n",
            "Requirement already satisfied: urllib3<1.27,>=1.21.1 in /usr/local/lib/python3.8/dist-packages (from requests>=2.0.0->requests-oauthlib>=0.7.0->google-auth-oauthlib>=0.4.1->gspread>=3.0.0->gspread-dataframe) (1.24.3)\n",
            "Requirement already satisfied: chardet<5,>=3.0.2 in /usr/local/lib/python3.8/dist-packages (from requests>=2.0.0->requests-oauthlib>=0.7.0->google-auth-oauthlib>=0.4.1->gspread>=3.0.0->gspread-dataframe) (4.0.0)\n",
            "Installing collected packages: gspread-dataframe\n",
            "Successfully installed gspread-dataframe-3.3.0\n",
            "Looking in indexes: https://pypi.org/simple, https://us-python.pkg.dev/colab-wheels/public/simple/\n",
            "Collecting gspread-formatting\n",
            "  Downloading gspread_formatting-1.1.2-py2.py3-none-any.whl (22 kB)\n",
            "Requirement already satisfied: gspread>=3.0.0 in /usr/local/lib/python3.8/dist-packages (from gspread-formatting) (5.7.2)\n",
            "Requirement already satisfied: google-auth>=1.12.0 in /usr/local/lib/python3.8/dist-packages (from gspread>=3.0.0->gspread-formatting) (2.16.0)\n",
            "Requirement already satisfied: google-auth-oauthlib>=0.4.1 in /usr/local/lib/python3.8/dist-packages (from gspread>=3.0.0->gspread-formatting) (0.4.6)\n",
            "Requirement already satisfied: pyasn1-modules>=0.2.1 in /usr/local/lib/python3.8/dist-packages (from google-auth>=1.12.0->gspread>=3.0.0->gspread-formatting) (0.2.8)\n",
            "Requirement already satisfied: six>=1.9.0 in /usr/local/lib/python3.8/dist-packages (from google-auth>=1.12.0->gspread>=3.0.0->gspread-formatting) (1.15.0)\n",
            "Requirement already satisfied: rsa<5,>=3.1.4 in /usr/local/lib/python3.8/dist-packages (from google-auth>=1.12.0->gspread>=3.0.0->gspread-formatting) (4.9)\n",
            "Requirement already satisfied: cachetools<6.0,>=2.0.0 in /usr/local/lib/python3.8/dist-packages (from google-auth>=1.12.0->gspread>=3.0.0->gspread-formatting) (5.3.0)\n",
            "Requirement already satisfied: requests-oauthlib>=0.7.0 in /usr/local/lib/python3.8/dist-packages (from google-auth-oauthlib>=0.4.1->gspread>=3.0.0->gspread-formatting) (1.3.1)\n",
            "Requirement already satisfied: pyasn1<0.5.0,>=0.4.6 in /usr/local/lib/python3.8/dist-packages (from pyasn1-modules>=0.2.1->google-auth>=1.12.0->gspread>=3.0.0->gspread-formatting) (0.4.8)\n",
            "Requirement already satisfied: oauthlib>=3.0.0 in /usr/local/lib/python3.8/dist-packages (from requests-oauthlib>=0.7.0->google-auth-oauthlib>=0.4.1->gspread>=3.0.0->gspread-formatting) (3.2.2)\n",
            "Requirement already satisfied: requests>=2.0.0 in /usr/local/lib/python3.8/dist-packages (from requests-oauthlib>=0.7.0->google-auth-oauthlib>=0.4.1->gspread>=3.0.0->gspread-formatting) (2.25.1)\n",
            "Requirement already satisfied: idna<3,>=2.5 in /usr/local/lib/python3.8/dist-packages (from requests>=2.0.0->requests-oauthlib>=0.7.0->google-auth-oauthlib>=0.4.1->gspread>=3.0.0->gspread-formatting) (2.10)\n",
            "Requirement already satisfied: chardet<5,>=3.0.2 in /usr/local/lib/python3.8/dist-packages (from requests>=2.0.0->requests-oauthlib>=0.7.0->google-auth-oauthlib>=0.4.1->gspread>=3.0.0->gspread-formatting) (4.0.0)\n",
            "Requirement already satisfied: urllib3<1.27,>=1.21.1 in /usr/local/lib/python3.8/dist-packages (from requests>=2.0.0->requests-oauthlib>=0.7.0->google-auth-oauthlib>=0.4.1->gspread>=3.0.0->gspread-formatting) (1.24.3)\n",
            "Requirement already satisfied: certifi>=2017.4.17 in /usr/local/lib/python3.8/dist-packages (from requests>=2.0.0->requests-oauthlib>=0.7.0->google-auth-oauthlib>=0.4.1->gspread>=3.0.0->gspread-formatting) (2022.12.7)\n",
            "Installing collected packages: gspread-formatting\n",
            "Successfully installed gspread-formatting-1.1.2\n",
            "Mounted at /content/drive\n",
            "/content/drive/MyDrive/langdeck\n"
          ]
        }
      ]
    },
    {
      "cell_type": "code",
      "source": [
        "\n",
        "#====== EPUB XHTML parsing\n",
        "!pip install ebooklib\n",
        "import ebooklib\n",
        "from ebooklib import epub\n",
        "import csv\n",
        "from bs4 import BeautifulSoup"
      ],
      "metadata": {
        "colab": {
          "base_uri": "https://localhost:8080/"
        },
        "id": "7LlVOj_nHuSX",
        "outputId": "030af69e-4020-4f4f-b780-83b82843bbf2"
      },
      "execution_count": 2,
      "outputs": [
        {
          "output_type": "stream",
          "name": "stdout",
          "text": [
            "Looking in indexes: https://pypi.org/simple, https://us-python.pkg.dev/colab-wheels/public/simple/\n",
            "Collecting ebooklib\n",
            "  Downloading EbookLib-0.18.tar.gz (115 kB)\n",
            "\u001b[2K     \u001b[90m━━━━━━━━━━━━━━━━━━━━━━━━━━━━━━━━━━━━━━━\u001b[0m \u001b[32m115.5/115.5 KB\u001b[0m \u001b[31m4.6 MB/s\u001b[0m eta \u001b[36m0:00:00\u001b[0m\n",
            "\u001b[?25h  Preparing metadata (setup.py) ... \u001b[?25l\u001b[?25hdone\n",
            "Requirement already satisfied: lxml in /usr/local/lib/python3.8/dist-packages (from ebooklib) (4.9.2)\n",
            "Requirement already satisfied: six in /usr/local/lib/python3.8/dist-packages (from ebooklib) (1.15.0)\n",
            "Building wheels for collected packages: ebooklib\n",
            "  Building wheel for ebooklib (setup.py) ... \u001b[?25l\u001b[?25hdone\n",
            "  Created wheel for ebooklib: filename=EbookLib-0.18-py3-none-any.whl size=38791 sha256=e7f8c3e07ee6ff2e97e06f8db99eddfccaae098815be2e87c723a2b6ee9d2d72\n",
            "  Stored in directory: /root/.cache/pip/wheels/6d/c5/f9/c615f68c24f539a89184ea938cd630d5973d582af6ced69140\n",
            "Successfully built ebooklib\n",
            "Installing collected packages: ebooklib\n",
            "Successfully installed ebooklib-0.18\n"
          ]
        }
      ]
    },
    {
      "cell_type": "code",
      "source": [
        "def is_tag (html_line, tag):\n",
        "  s = str(html_line)\n",
        "  # initializing tag\n",
        "  # regex to extract required strings\n",
        "  reg_str = \"<\" + tag + \">(.*?)</\" + tag + \">\"\n",
        "  res = re.findall(reg_str, s)\n",
        "  if len(res) > 0:\n",
        "    return True\n",
        "  else:\n",
        "    return False\n",
        "\n",
        "def get_title (html_line):\n",
        "  str_out = tuple()\n",
        "  dictSection = dict()\n",
        "  tag = \"b\"\n",
        "  # regex to extract required strings\n",
        "  reg_str = \"<\" + tag + \">(.*?)</\" + tag + \">\"\n",
        "  res = re.findall(reg_str, str(html_line))\n",
        "  if len(res) > 0:\n",
        "    # <b> a été trouvé => c'est un titre\n",
        "    v = html_line.get_text().split(\":\")[1].strip()\n",
        "    k = res[0].split(\":\")[0].strip().replace(\" \", \"_\").replace(\"(\",\"\").replace(\")\",\"\")\n",
        "    str_out = (k,v)\n",
        "  \n",
        "  return str_out\n",
        "\n",
        "def get_subtitle (html_line):\n",
        "  str_out = tuple()\n",
        "  tag = \"i\"\n",
        "  # regex to extract required strings\n",
        "  reg_str = \"<\" + tag + \">(.*?)</\" + tag + \">\"\n",
        "  res = re.findall(reg_str, str(html_line))\n",
        "  if len(res) > 0:\n",
        "    try:\n",
        "      k = res[0].split(\":\")[0].strip().replace(\" \", \"_\").replace(\"(\",\"\").replace(\")\",\"\")\n",
        "      l = len(html_line.get_text().split(\":\"))\n",
        "      #v = html_line.get_text().split(\":\")[len(res)].strip()\n",
        "      # cas où il ya des : en plus dans la valeur\n",
        "      v = html_line.get_text().split(\":\")[l-1].strip()\n",
        "\n",
        "    except Exception as e:\n",
        "      print (str(e))\n",
        "      print (html_line)\n",
        "      k = \"Null\"\n",
        "      v = \"Null\"\n",
        "      pass      \n",
        "    str_out = (k,v)\n",
        "  return str_out\n",
        "\n",
        "def get_title_spec (html_line):\n",
        "  str_out = tuple()\n",
        "  tag = \"b\"\n",
        "  v = \"\"\n",
        "  # regex to extract required strings\n",
        "  reg_str = \"<\" + tag + \">(.*?)</\" + tag + \">\"\n",
        "  res = re.findall(reg_str, str(html_line))\n",
        "  if len(res) > 0:\n",
        "    k = res[0].split(\":\")[0].strip().replace(\" \", \"_\").replace(\"(\",\"\").replace(\")\",\"\")\n",
        "  tag = \"i\"\n",
        "  reg_str = \"<\" + tag + \">(.*?)</\" + tag + \">\"\n",
        "  res = re.findall(reg_str, str(html_line))\n",
        "  if len(res) > 0: \n",
        "    v = html_line.get_text().split(\":\")[2].strip()\n",
        "  str_out = (k,v)\n",
        "  return str_out\n",
        "\n",
        "def section_t (soup, section_title, vk_section, idx):\n",
        "  dictSection = dict()\n",
        "  dictSubSection = dict()\n",
        "  dictSection[\"section\"] = section_title\n",
        "  title=\"\"\n",
        "  subtitle=\"\"  \n",
        "  b_subdict = False\n",
        "  k_temp=\"\"\n",
        "  kv = dict()\n",
        "  for section in vk_section:\n",
        "    # uniquement les : en fin de ligne avant le tag fermant\n",
        "    temp = str(section).split(\":</\")\n",
        "    if str(section).startswith('<p class=\"noindent\"><i>Area:</i> total:'):\n",
        "      section = fix_area_total(soup, section)\n",
        "      temp = str(section).split(\":</\")\n",
        "    if str(section).startswith('<p class=\"noindent\"><b>border countries'):\n",
        "      section = fix_border_countries(soup, section)\n",
        "      temp = str(section).split(\":</\")      \n",
        "      print(temp)\n",
        "    if len(temp)==2:\n",
        "      # cas : title OU subtitle\n",
        "      if is_tag(section, \"b\"):\n",
        "        if b_subdict:\n",
        "          # fin de la boucle\n",
        "          kv[k_temp] = s_kv\n",
        "          b_subdict = False\n",
        "          k_temp = \"\"\n",
        "        kv[get_title(section)[0]] = get_title(section)[1]\n",
        "      if is_tag(section,\"i\"):\n",
        "        if b_subdict:\n",
        "          s_kv[get_subtitle(section)[0]] = get_subtitle(section)[1]\n",
        "        else:\n",
        "          kv[get_subtitle(section)[0]] = get_subtitle(section)[1]\n",
        "    if len(temp)==3:\n",
        "      # on entre dans une boucle où on crée un sous-dict\n",
        "      s_kv = dict()\n",
        "      try:\n",
        "        k_temp = get_title(section)[0]\n",
        "        s_kv[get_subtitle(section)[0]] = get_title_spec(section)[1]\n",
        "        b_subdict = True\n",
        "      except Exception as e:\n",
        "        print(str(e))\n",
        "        print (section)\n",
        "        s_kv[\"UNKNOWN\"] = \"Null\"\n",
        "        pass\n",
        "  dictSection[\"content\"] = kv        \n",
        "  return dictSection\n",
        "\n",
        "def parseSections(soup, paras, chapters):\n",
        "  vk_section, vk_all_sections, vk_dict_section = ([] for _ in range(3))\n",
        "  section_idx = 0\n",
        "  para_idx = 0\n",
        "  start_section = chapters[section_idx].get_text()\n",
        "  end_section = chapters[section_idx+1].get_text()\n",
        "  max = len(chapters)\n",
        "  into_section=False\n",
        "  for para in paras:\n",
        "    # Début de section\n",
        "    para_idx += 1\n",
        "    if para.get_text()==start_section:\n",
        "      into_section=True\n",
        "    # Fin de section\n",
        "    if para.get_text()==end_section:\n",
        "      into_section=False\n",
        "      #print(f\"From {start_section} to {end_section}\")\n",
        "      # on itemize la section dans un dict avec hiérarchie\n",
        "      dict_section = section_t(soup, start_section, vk_section, section_idx)\n",
        "      vk_dict_section.append(dict_section)\n",
        "      vk_all_sections.append(vk_section)\n",
        "      # on réinitialise\n",
        "      vk_section=[]\n",
        "      section_idx += 1\n",
        "      # nouvel indice de début de section\n",
        "      start_section = chapters[section_idx].get_text()\n",
        "      if section_idx+1 < max:\n",
        "        end_section = chapters[section_idx+1].get_text()\n",
        "      into_section=True\n",
        "    if into_section:\n",
        "      # Intra section : on ajoute une ligne\n",
        "      vk_section.append(para)\n",
        "\n",
        "  return vk_dict_section  \n",
        "\n",
        "def fix_area_total(soup, element):\n",
        "  old_tag = element.find(\"i\")\n",
        "  new_tag = soup.new_tag(\"b\")\n",
        "  new_tag.string=old_tag.string\n",
        "  element.i.replace_with(new_tag)\n",
        "  # insert tag\n",
        "  i_tag = soup.new_tag(\"i\")\n",
        "  i_tag.string = \"total:\"\n",
        "  element.b.insert_after(i_tag)\n",
        "  new_s = re.sub(('total:'),'',element.contents[2]).strip()\n",
        "  element.contents[2].replace_with(new_s)\n",
        "  return element  \n",
        "\n",
        "def fix_border_countries(soup, element):\n",
        "  old_tag = element.find(\"b\")\n",
        "  new_tag = soup.new_tag(\"i\")\n",
        "  new_tag.string=\"border countries:\"\n",
        "  element.b.replace_with(new_tag)\n",
        "  return element    "
      ],
      "metadata": {
        "id": "AAJlGjX3SgjX"
      },
      "execution_count": 22,
      "outputs": []
    },
    {
      "cell_type": "code",
      "source": [
        "book = epub.read_epub('Central Intelligence Agency - CIA World Factbook 2022-2023-Skyhorse (2022).epub')\n",
        "documents = []\n",
        "# find the document structure of the book\n",
        "for document in book.get_items_of_type(ebooklib.ITEM_DOCUMENT):\n",
        "  doc_name = document.get_name()\n",
        "  # print(doc_name)\n",
        "  # the entries are are in documents named like 010_chapter1.xhtml\n",
        "  if (\"_chapter\" in doc_name):\n",
        "    documents.append(document)\n",
        "\n",
        "# AF = documents[0]; SQ = 2, etc. (010_chapterxxx) MINUS ONE !!\n"
      ],
      "metadata": {
        "id": "3d6W3CvWRdFt"
      },
      "execution_count": 23,
      "outputs": []
    },
    {
      "cell_type": "code",
      "source": [
        "def iterate_wfb(cty, idx):\n",
        "  soup = BeautifulSoup(documents[idx].get_body_content(), \"html.parser\")\n",
        "  paras = [para for para in soup.find_all(\"p\")]\n",
        "  # All chpaters\n",
        "  chapters = [chapter for chapter in soup.find_all(\"p\", {\"class\": \"sec\"})]\n",
        "  vk_dict_section = parseSections(soup, paras, chapters) \n",
        "  vk_dict_section[0][\"content\"][\"alpha2\"] = cty\n",
        "  return vk_dict_section"
      ],
      "metadata": {
        "id": "MEbG5tWwRg2_"
      },
      "execution_count": 24,
      "outputs": []
    },
    {
      "cell_type": "code",
      "source": [
        "vk_wfb_idx = [\n",
        "    {\"cty\":\"AF\",\"idx\":0},{\"cty\":\"AL\",\"idx\":2},{\"cty\":\"DZ\",\"idx\":3},{\"cty\":\"AD\",\"idx\":5},{\"cty\":\"AO\",\"idx\":6},{\"cty\":\"AR\",\"idx\":11},{\"cty\":\"AM\",\"idx\":12},{\"cty\":\"AU\",\"idx\":16},{\"cty\":\"AT\",\"idx\":17},{\"cty\":\"AZ\",\"idx\":18},\n",
        "    {\"cty\":\"BH\",\"idx\":20},{\"cty\":\"BD\",\"idx\":21},{\"cty\":\"BY\",\"idx\":23},{\"cty\":\"BE\",\"idx\":24},{\"cty\":\"BZ\",\"idx\":25},{\"cty\":\"BJ\",\"idx\":26},{\"cty\":\"BT\",\"idx\":28},{\"cty\":\"BO\",\"idx\":29},{\"cty\":\"BA\",\"idx\":30},{\"cty\":\"BW\",\"idx\":31},\n",
        "    {\"cty\":\"BR\",\"idx\":33},{\"cty\":\"BG\",\"idx\":37},{\"cty\":\"BF\",\"idx\":38},{\"cty\":\"MM\",\"idx\":39},{\"cty\":\"BI\",\"idx\":40},\n",
        "    {\"cty\":\"CV\",\"idx\":41},{\"cty\":\"KH\",\"idx\":42},{\"cty\":\"CM\",\"idx\":43},{\"cty\":\"CA\",\"idx\":44},{\"cty\":\"CF\",\"idx\":46},{\"cty\":\"TD\",\"idx\":47},{\"cty\":\"CL\",\"idx\":48},{\"cty\":\"CN\",\"idx\":49},{\"cty\":\"CO\",\"idx\":53},{\"cty\":\"KM\",\"idx\":54},  \n",
        "    {\"cty\":\"CD\",\"idx\":55},{\"cty\":\"CG\",\"idx\":56},{\"cty\":\"CR\",\"idx\":59},{\"cty\":\"CI\",\"idx\":60},{\"cty\":\"HR\",\"idx\":61},{\"cty\":\"CU\",\"idx\":62},{\"cty\":\"CY\",\"idx\":64},{\"cty\":\"CZ\",\"idx\":65},\n",
        "    {\"cty\":\"DK\",\"idx\":66},{\"cty\":\"DJ\",\"idx\":68},{\"cty\":\"DO\",\"idx\":70},\n",
        "    {\"cty\":\"EC\",\"idx\":71},{\"cty\":\"EG\",\"idx\":72},{\"cty\":\"SV\",\"idx\":73},{\"cty\":\"GQ\",\"idx\":74},{\"cty\":\"ER\",\"idx\":75},{\"cty\":\"EE\",\"idx\":76},{\"cty\":\"SZ\",\"idx\":77},{\"cty\":\"ET\",\"idx\":78}, \n",
        "    {\"cty\":\"FO\",\"idx\":81},{\"cty\":\"FI\",\"idx\":83},{\"cty\":\"FR\",\"idx\":84},{\"cty\":\"PF\",\"idx\":85},{\"cty\":\"GA\",\"idx\":87},{\"cty\":\"GM\",\"idx\":88},{\"cty\":\"GE\",\"idx\":90},{\"cty\":\"DE\",\"idx\":91},       \n",
        "    {\"cty\":\"GH\",\"idx\":92},{\"cty\":\"GI\",\"idx\":93},{\"cty\":\"GR\",\"idx\":94},{\"cty\":\"GL\",\"idx\":95},{\"cty\":\"GT\",\"idx\":98},{\"cty\":\"GN\",\"idx\":100},{\"cty\":\"GW\",\"idx\":101},{\"cty\":\"GY\",\"idx\":102},\n",
        "    {\"cty\":\"HT\",\"idx\":103},{\"cty\":\"HN\",\"idx\":106},{\"cty\":\"HK\",\"idx\":107},{\"cty\":\"HU\",\"idx\":108},{\"cty\":\"IS\",\"idx\":109},{\"cty\":\"IN\",\"idx\":110},{\"cty\":\"ID\",\"idx\":112},{\"cty\":\"IR\",\"idx\":113},               \n",
        "    {\"cty\":\"IQ\",\"idx\":114},{\"cty\":\"IE\",\"idx\":115},{\"cty\":\"IL\",\"idx\":117},{\"cty\":\"IT\",\"idx\":118},{\"cty\":\"JM\",\"idx\":119},{\"cty\":\"JP\",\"idx\":121},{\"cty\":\"JO\",\"idx\":123},{\"cty\":\"KZ\",\"idx\":124},\n",
        "    {\"cty\":\"KE\",\"idx\":125},{\"cty\":\"KP\",\"idx\":127},{\"cty\":\"KR\",\"idx\":128},{\"cty\":\"XK\",\"idx\":129},{\"cty\":\"KW\",\"idx\":130},{\"cty\":\"KG\",\"idx\":131},{\"cty\":\"LA\",\"idx\":132},{\"cty\":\"LV\",\"idx\":133},              \n",
        "    {\"cty\":\"LB\",\"idx\":134},{\"cty\":\"LS\",\"idx\":135},{\"cty\":\"LR\",\"idx\":136},{\"cty\":\"LY\",\"idx\":137},{\"cty\":\"LT\",\"idx\":139},{\"cty\":\"LU\",\"idx\":140},{\"cty\":\"MG\",\"idx\":142},{\"cty\":\"MW\",\"idx\":143},       \n",
        "    {\"cty\":\"MY\",\"idx\":144},{\"cty\":\"MV\",\"idx\":145},{\"cty\":\"ML\",\"idx\":146},{\"cty\":\"MT\",\"idx\":147},{\"cty\":\"MR\",\"idx\":149},{\"cty\":\"MU\",\"idx\":150},{\"cty\":\"MX\",\"idx\":151},{\"cty\":\"MD\",\"idx\":153}, \n",
        "    {\"cty\":\"MN\",\"idx\":155},{\"cty\":\"ME\",\"idx\":156},{\"cty\":\"MA\",\"idx\":158},{\"cty\":\"MZ\",\"idx\":159},{\"cty\":\"NA\",\"idx\":160},{\"cty\":\"NP\",\"idx\":163},{\"cty\":\"NL\",\"idx\":164},{\"cty\":\"NZ\",\"idx\":166}, \n",
        "    {\"cty\":\"NI\",\"idx\":167},{\"cty\":\"NE\",\"idx\":168},{\"cty\":\"NG\",\"idx\":169},{\"cty\":\"MK\",\"idx\":172},{\"cty\":\"NO\",\"idx\":174},{\"cty\":\"OM\",\"idx\":175},{\"cty\":\"PK\",\"idx\":177},{\"cty\":\"PA\",\"idx\":179}, \n",
        "    {\"cty\":\"PY\",\"idx\":182},{\"cty\":\"PE\",\"idx\":183},{\"cty\":\"PH\",\"idx\":184},{\"cty\":\"PL\",\"idx\":186},{\"cty\":\"PT\",\"idx\":187},{\"cty\":\"PR\",\"idx\":188},{\"cty\":\"QA\",\"idx\":189},{\"cty\":\"RO\",\"idx\":190}, \n",
        "    {\"cty\":\"RU\",\"idx\":191},{\"cty\":\"RW\",\"idx\":192},{\"cty\":\"ST\",\"idx\":202},{\"cty\":\"SA\",\"idx\":203},{\"cty\":\"SN\",\"idx\":204},{\"cty\":\"RS\",\"idx\":205},{\"cty\":\"SL\",\"idx\":207},{\"cty\":\"SG\",\"idx\":208},     \n",
        "    {\"cty\":\"SK\",\"idx\":210},{\"cty\":\"SI\",\"idx\":211},{\"cty\":\"SO\",\"idx\":213},{\"cty\":\"ZA\",\"idx\":214},{\"cty\":\"SS\",\"idx\":216},{\"cty\":\"ES\",\"idx\":218},{\"cty\":\"LK\",\"idx\":220},{\"cty\":\"SD\",\"idx\":221},         \n",
        "    {\"cty\":\"SR\",\"idx\":222},{\"cty\":\"SE\",\"idx\":224},{\"cty\":\"CH\",\"idx\":225},{\"cty\":\"SY\",\"idx\":226},{\"cty\":\"TW\",\"idx\":227},{\"cty\":\"TJ\",\"idx\":228},{\"cty\":\"TZ\",\"idx\":229},{\"cty\":\"TH\",\"idx\":230},\n",
        "    {\"cty\":\"TL\",\"idx\":231},{\"cty\":\"TG\",\"idx\":232},{\"cty\":\"TT\",\"idx\":235},{\"cty\":\"TN\",\"idx\":236},{\"cty\":\"TR\",\"idx\":237},{\"cty\":\"TM\",\"idx\":238},{\"cty\":\"UG\",\"idx\":241},{\"cty\":\"UA\",\"idx\":242},\n",
        "    {\"cty\":\"AE\",\"idx\":243},{\"cty\":\"GB\",\"idx\":244},{\"cty\":\"US\",\"idx\":245},{\"cty\":\"UY\",\"idx\":247},{\"cty\":\"UZ\",\"idx\":248},{\"cty\":\"VE\",\"idx\":250},{\"cty\":\"VN\",\"idx\":251},{\"cty\":\"YE\",\"idx\":257},\n",
        "    {\"cty\":\"ZM\",\"idx\":258},{\"cty\":\"ZW\",\"idx\":259},\n",
        "        ]"
      ],
      "metadata": {
        "id": "lZ1Cuc3eTjyC"
      },
      "execution_count": 25,
      "outputs": []
    },
    {
      "cell_type": "code",
      "source": [
        "#vk_wfb_idx = [{\"cty\":\"DE\",\"idx\":91}, ]"
      ],
      "metadata": {
        "id": "owNyRLxTO7oG"
      },
      "execution_count": 26,
      "outputs": []
    },
    {
      "cell_type": "code",
      "source": [
        "data_0_filter = [\"alpha2\"]\n",
        "data_1_filter = [\"Location\",\"Map_references\",\"Area\",\"Land_boundaries\",\"Climate\",\"Elevation\",\"Major_rivers_by_length_in_km\"]\n",
        "data_2_filter = [\"Population\",\"Nationality\",\"Ethnic_groups\",\"Languages\",\"Religions\",\"Obesity_-_adult_prevalence_rate\"]\n",
        "data_4_filter = [\"Country_name\",\"Capital\",\"Administrative_divisions\",\"National_holiday\",\"Flag_description\",\"National_symbols\"]\n",
        "data_5_filter = [\"Economic_overview\"]"
      ],
      "metadata": {
        "id": "AFtyUwvVb8a5"
      },
      "execution_count": 27,
      "outputs": []
    },
    {
      "cell_type": "markdown",
      "source": [
        "# FIN"
      ],
      "metadata": {
        "id": "qYw3IIvD3W3u"
      }
    },
    {
      "cell_type": "code",
      "source": [
        "vk_wfb = []\n",
        "for item in vk_wfb_idx:\n",
        "  vk = iterate_wfb(item[\"cty\"], item[\"idx\"])\n",
        "  vk_wfb.append(vk)"
      ],
      "metadata": {
        "id": "M-SIyd55ITRa",
        "colab": {
          "base_uri": "https://localhost:8080/"
        },
        "outputId": "55f9c709-0191-47de-aba5-89fe6ed60238"
      },
      "execution_count": 31,
      "outputs": [
        {
          "output_type": "stream",
          "name": "stdout",
          "text": [
            "tuple index out of range\n",
            "<p class=\"noindent\"><b>Military and security forces:</b> prior to August 2021, the Afghan National Defense and Security Forces (ANDSF) were comprised of military, police, and other security elements:</p>\n",
            "tuple index out of range\n",
            "<p class=\"noindent\"><i>subordinate courts: at the federal level:</i> Federal Court; Federal Magistrates’ Courts of Australia; Family Court; <i>at the state and territory level:</i> Local Court - New South Wales; Magistrates’ Courts – Victoria, Queensland, South Australia, Western Australia, Tasmania, Northern Territory, Australian Capital Territory; District Courts – New South Wales, Queensland, South Australia, Western Australia; County Court – Victoria; Family Court – Western Australia; Court of Petty Sessions – Norfolk Island</p>\n",
            "tuple index out of range\n",
            "<p class=\"noindent\"><i>note:</i> immigrants make up approximately 45% of the total population, according to UN data (2019) <i>country comparison to the world:</i> 154</p>\n",
            "tuple index out of range\n",
            "<p class=\"noindent\"><b>Political parties and leaders:</b> political parties exist, but conditions for their operations, particularly in elections, are undefined, legally unclear, or culturally restricted; the following are considered political associations:</p>\n",
            "['<p class=\"noindent\"><i>border countries', 'i> Cameroon 349 km, Republic of the Congo 2567 km, Equatorial Guinea 345 km</p>']\n",
            "['<p class=\"noindent\"><i>border countries', 'i> Senegal 749 km</p>']\n",
            "['<p class=\"noindent\"><i>border countries', 'i> Armenia 219 km, Azerbaijan 428 km, Russia 894 km, Turkey 273 km</p>']\n",
            "['<p class=\"noindent\"><i>border countries', 'i> Austria 801 km, Belgium 133 km, Czechia 704 km, Denmark 140 km, France 418 km, Luxembourg 128 km, Netherlands 575 km, Poland 447 km, Switzerland 348 km</p>']\n",
            "['<p class=\"noindent\"><i>border countries', 'i> Burkina Faso 602 km, Cote d’Ivoire 720 km, Togo 1098 km</p>']\n",
            "['<p class=\"noindent\"><i>border countries', 'i> Spain 1.2 km</p>']\n",
            "['<p class=\"noindent\"><i>border countries', 'i> Albania 212 km, Bulgaria 472 km, Macedonia 234 km, Turkey 192 km</p>']\n",
            "['<p class=\"noindent\"><i>border countries', 'i> Belize 266 km, El Salvador 199 km, Honduras 244 km, Mexico 958 km</p>']\n",
            "['<p class=\"noindent\"><i>border countries', 'i> Cote d’Ivoire 816 km, Guinea-Bissau 421 km, Liberia 590 km, Mali 1062 km, Senegal 363 km, Sierra Leone 794 km</p>']\n",
            "['<p class=\"noindent\"><i>border countries', 'i> Guinea 421 km, Senegal 341 km</p>']\n",
            "['<p class=\"noindent\"><i>border countries', 'i> Brazil 1308 km, Suriname 836 km, Venezuela 789 km</p>']\n",
            "tuple index out of range\n",
            "<p class=\"noindent\"><b>Broadcast media:</b> government-dominated broadcast media; the National Communications Network (NCN) TV is state-owned; a few private TV stations relay satellite services; the state owns and operates 2 radio stations broadcasting on multiple frequencies capable of reaching the entire country; government limits on licensing of new private radio stations has constrained competition in Broadcast media: <b>Internet country code:</b> .gy</p>\n",
            "['<p class=\"noindent\"><i>border countries', 'i> Dominican Republic 376 km</p>']\n",
            "['<p class=\"noindent\"><i>border countries', 'i> Guatemala 244 km, El Salvador 391 km, Nicaragua 940 km</p>']\n",
            "['<p class=\"noindent\"><i>border countries', 'i> Austria 321 km, Croatia 348 km, Romania 424 km, Serbia 164 km, Slovakia 627 km, Slovenia 94 km, Ukraine 128 km</p>']\n",
            "['<p class=\"noindent\"><i>border countries', 'i> Bangladesh 4142 km, Bhutan 659 km, Burma 1468 km, China 2659 km, Nepal 1770 km, Pakistan 3190 km</p>']\n",
            "tuple index out of range\n",
            "<p class=\"noindent\"><b>Administrative divisions:</b> 28 states and 8 union territories*; Andaman and Nicobar Islands*, Andhra Pradesh, Arunachal Pradesh, Assam, Bihar, Chandigarh*, Chhattisgarh, Dadra and Nagar Haveli and Daman and Diu*, Delhi*, Goa, Gujarat, Haryana, Himachal Pradesh, Jammu and Kashmir*, Jharkhand, Karnataka, Kerala, Ladakh*, Lakshadweep*, Madhya Pradesh, Maharashtra, Manipur, Meghalaya, Mizoram, Nagaland, Odisha, Puducherry*, Punjab, Rajasthan, Sikkim, Tamil Nadu, Telangana, Tripura, Uttar Pradesh, Uttarakhand, West Bengal <b>note:</b> although its status is that of a union territory, the official name of Delhi is National Capital Territory of Delhi</p>\n",
            "['<p class=\"noindent\"><i>border countries', 'i> Malaysia 1881 km, Papua New Guinea 824 km, Timor-Leste 253 km</p>']\n",
            "['<p class=\"noindent\"><i>border countries', 'i> Afghanistan 921 km, Armenia 44 km, Azerbaijan 689 km, Iraq 1599 km, Pakistan 959 km, Turkey 534 km, Turkmenistan 1148 km</p>']\n",
            "['<p class=\"noindent\"><i>border countries', 'i> Iran 1599 km, Jordan 179 km, Kuwait 254 km, Saudi Arabia 811 km, Syria 599 km, Turkey 367 km</p>']\n",
            "['<p class=\"noindent\"><i>border countries', 'i> UK 490 km</p>']\n",
            "['<p class=\"noindent\"><i>border countries', 'i> Egypt 208 km, Gaza Strip 59 km, Jordan 327 km (20 km are within the Dead Sea), Lebanon 81 km, Syria 83 km, West Bank 330 km</p>']\n",
            "['<p class=\"noindent\"><i>border countries', 'i> Austria 404 km, France 476 km, Holy See (Vatican City) 3.4 km, San Marino 37 km, Slovenia 218 km, Switzerland 698 km</p>']\n",
            "tuple index out of range\n",
            "<p class=\"noindent\"><b>Flag description:</b> diagonal yellow cross divides the flag into four triangles - green (top and bottom) and black (hoist side and fly side); green represents hope, vegetation, and agriculture, black reflects hardships overcome and to be faced, and yellow recalls golden sunshine and the island’s Natural resources: <b>National symbol(s):</b> green-and-black streamertail (bird), Guaiacum officinale (Guaiacwood); national colors: green, yellow, black</p>\n",
            "['<p class=\"noindent\"><i>border countries', 'i> Iraq 179 km, Israel 307 km, Saudi Arabia 731 km, Syria 379 km, West Bank 148 km</p>']\n",
            "['<p class=\"noindent\"><i>border countries', 'i> China 1765 km, Kyrgyzstan 1212 km, Russia 7644 km, Turkmenistan 413 km, Uzbekistan 2330 km</p>']\n",
            "['<p class=\"noindent\"><i>border countries', 'i> Ethiopia 867 km, Somalia 684 km, South Sudan 317 km, Tanzania 775 km, Uganda 814 km</p>']\n",
            "['<p class=\"noindent\"><i>border countries', 'i> China 1352 km, South Korea 237 km, Russia 18 km</p>']\n",
            "['<p class=\"noindent\"><i>border countries', 'i> North Korea 237 km</p>']\n",
            "['<p class=\"noindent\"><i>border countries', 'i> Albania 112 km, Macedonia 160 km, Montenegro 76 km, Serbia 366 km</p>']\n",
            "['<p class=\"noindent\"><i>border countries', 'i> Iraq 254 km, Saudi Arabia 221 km</p>']\n",
            "['<p class=\"noindent\"><i>border countries', 'i> China 1063 km, Kazakhstan 1212 km, Tajikistan 984 km, Uzbekistan 1314 km</p>']\n",
            "['<p class=\"noindent\"><i>border countries', 'i> Burma 238 km, Cambodia 555 km, China 475 km, Thailand 1845 km, Vietnam 2161 km</p>']\n",
            "['<p class=\"noindent\"><i>border countries', 'i> Belarus 161 km, Estonia 333 km, Lithuania 544 km, Russia 332 km</p>']\n",
            "['<p class=\"noindent\"><i>border countries', 'i> Israel 81 km, Syria 403 km</p>']\n",
            "['<p class=\"noindent\"><i>border countries', 'i> South Africa 1106 km</p>']\n",
            "tuple index out of range\n",
            "<p class=\"noindent\"><b>Flag description:</b> three horizontal stripes of blue (top), white, and green in the proportions of 3:4:3; the colors represent rain, peace, and prosperity respectively; centered in the white stripe is a black Basotho hat representing the indigenous people; the flag was unfurled in October 2006 to celebrate 40 years of Independence: <b>National symbol(s):</b> mokorotio (Basotho hat); national colors: blue, white, green, black</p>\n",
            "['<p class=\"noindent\"><i>border countries', 'i> Guinea 590 km, Cote d’Ivoire 778 km, Sierra Leone 299 km</p>']\n",
            "['<p class=\"noindent\"><i>border countries', 'i> Algeria 989 km, Chad 1050 km, Egypt 1115 km, Niger 342 km, Sudan 382 km, Tunisia 461 km</p>']\n",
            "['<p class=\"noindent\"><i>border countries', 'i> Belarus 640 km, Latvia 544 km, Poland 100 km, Russia (Kaliningrad) 261 km</p>']\n",
            "['<p class=\"noindent\"><i>border countries', 'i> Belgium 130 km, France 69 km, Germany 128 km</p>']\n",
            "['<p class=\"noindent\"><i>border countries', 'i> Mozambique 1498 km, Tanzania 512 km, Zambia 847 km</p>']\n",
            "['<p class=\"noindent\"><i>border countries', 'i> Brunei 266 km, Indonesia 1881 km, Thailand 595 km</p>']\n",
            "['<p class=\"noindent\"><i>border countries', 'i> Algeria 1359 km, Burkina Faso 1325 km, Cote d’Ivoire 599 km, Guinea 1062 km, Mauritania 2236 km, Niger 838 km, Senegal 489 km</p>']\n",
            "['<p class=\"noindent\"><i>border countries', 'i> Algeria 460 km, Mali 2236 km, Morocco 1564 km, Senegal 742 km\\r\\n</p>']\n",
            "tuple index out of range\n",
            "<p class=\"noindent\"><b>Flag description:</b> green with a yellow, five-pointed star between the horns of a yellow, upward-pointing crescent moon; red stripes along the top and bottom edges; the crescent, star, and color green are traditional symbols of Islam; green also represents hope for a bright future; the yellow color stands for the sands of the Sahara; red symbolizes the blood shed in the struggle for Independence: \n",
            "<b>National symbol(s):</b> five-pointed star between the horns of a horizontal crescent moon; national colors: green, yellow\n",
            "</p>\n",
            "['<p class=\"noindent\"><i>border countries', 'i> Belize 276 km, Guatemala 958 km, US 3155 km</p>']\n",
            "['<p class=\"noindent\"><i>border countries', 'i> Romania 683 km, Ukraine 1202 km</p>']\n",
            "['<p class=\"noindent\"><i>border countries', 'i> China 4630 km, Russia 3452 km</p>']\n",
            "['<p class=\"noindent\"><i>border countries', 'i> Albania 186 km, Bosnia and Herzegovina 242 km, Croatia 19 km, Kosovo 76 km, Serbia 157 km</p>']\n",
            "['<p class=\"noindent\"><i>border countries', 'i> Algeria 1941 km, Mauritania 1564 km, Spain (Ceuta) 8 km and Spain (Melilla) 10.5 km</p>']\n",
            "['<p class=\"noindent\"><i>border countries', 'i> Malawi 1498 km, South Africa 496 km, Eswatini 108 km, Tanzania 840 km, Zambia 439 km, Zimbabwe 1402 km</p>']\n",
            "['<p class=\"noindent\"><i>border countries', 'i> Angola 1427 km, Botswana 1544 km, South Africa 1005 km, Zambia 244 km</p>']\n",
            "['<p class=\"noindent\"><i>border countries', 'i> China 1389 km, India 1770 km</p>']\n",
            "tuple index out of range\n",
            "<p class=\"noindent\"><b>Political parties and leaders:</b> the Election Commission of Nepal granted ballot access under the proportional system to 88 political parties for the November-December 2017 House of Representatives election to the Federal Parliament; of these, the following 8 parties won seats:</p>\n",
            "['<p class=\"noindent\"><i>border countries', 'i> Belgium 478 km, Germany 575 km</p>']\n",
            "['<p class=\"noindent\"><i>border countries', 'i> Costa Rica 313 km, Honduras 940 km</p>']\n",
            "['<p class=\"noindent\"><i>border countries', 'i> Algeria 951 km, Benin 277 km, Burkina Faso 622 km, Chad 1196 km, Libya 342 km, Mali 838 km, Nigeria 1608 km</p>']\n",
            "['<p class=\"noindent\"><i>border countries', 'i> Benin 809 km, Cameroon 1975 km, Chad 85 km, Niger 1608 km</p>']\n",
            "['<p class=\"noindent\"><i>border countries', 'i> Albania 181 km, Bulgaria 162 km, Greece 234 km, Kosovo 160 km, Serbia 101 km</p>']\n",
            "['<p class=\"noindent\"><i>border countries', 'i> Finland 709 km, Sweden 1666 km, Russia 191 km</p>']\n",
            "['<p class=\"noindent\"><i>border countries', 'i> Saudi Arabia 658 km, UAE 609 km, Yemen 294 km</p>']\n",
            "['<p class=\"noindent\"><i>border countries', 'i> Afghanistan 2670 km, China 438 km, India 3190 km, Iran 959 km</p>']\n",
            "['<p class=\"noindent\"><i>border countries', 'i> Colombia 339 km, Costa Rica 348 km</p>']\n",
            "['<p class=\"noindent\"><i>border countries', 'i> Argentina 2531 km, Bolivia 753 km, Brazil 1371 km</p>']\n",
            "['<p class=\"noindent\"><i>border countries', 'i> Bolivia 1212 km, Brazil 2659 km, Chile 168 km, Colombia 1494 km, Ecuador 1529 km</p>']\n",
            "['<p class=\"noindent\"><i>border countries', 'i> Belarus 375 km, Czechia 699 km, Germany 467 km, Lithuania 100 km, Russia (Kaliningrad Oblast) 209 km, Slovakia 517 km, Ukraine 498 km</p>']\n",
            "['<p class=\"noindent\"><i>border countries', 'i> Spain 1224 km</p>']\n"
          ]
        }
      ]
    },
    {
      "cell_type": "code",
      "source": [
        "vk_wfb"
      ],
      "metadata": {
        "id": "jA0LEsoNYkpn"
      },
      "execution_count": null,
      "outputs": []
    },
    {
      "cell_type": "code",
      "source": [
        "vk_wfb_dict = []\n",
        "for cty in vk_wfb:\n",
        "  dcty={}\n",
        "  data_0 = cty[0][\"content\"]\n",
        "  data_1 = cty[1][\"content\"]\n",
        "  data_2 = cty[2][\"content\"]\n",
        "  data_4 = cty[4][\"content\"]\n",
        "  data_5 = cty[5][\"content\"]\n",
        "  dcty.update(dict(filter(lambda e:e[0] in data_0_filter, data_0.items() ) ) )  \n",
        "  dcty.update(dict(filter(lambda e:e[0] in data_1_filter, data_1.items() ) ) )\n",
        "  dcty.update(dict(filter(lambda e:e[0] in data_2_filter, data_2.items() ) ) )\n",
        "  dcty.update(dict(filter(lambda e:e[0] in data_4_filter, data_4.items() ) ) )\n",
        "  dcty.update(dict(filter(lambda e:e[0] in data_5_filter, data_5.items() ) ) ) \n",
        "  # rename key with variable name\n",
        "  \"\"\"\n",
        "  try:\n",
        "    for key, val in list(dcty[\"Land_boundaries\"].items()):\n",
        "        if key.startswith(\"border_countries\"):\n",
        "            dcty[\"Land_boundaries\"][\"border_countries\"] = dcty[\"Land_boundaries\"].pop(key)  \n",
        "  except Exception as e:\n",
        "    print(val)\n",
        "  \"\"\"\n",
        "  vk_wfb_dict.append(dcty)"
      ],
      "metadata": {
        "id": "qeilX5ImSKZN"
      },
      "execution_count": 34,
      "outputs": []
    },
    {
      "cell_type": "code",
      "source": [
        "def load_df_from_gsheet (wb, table_name):\n",
        "  try:\n",
        "    tbl = wb.worksheet(table_name)\n",
        "    data = tbl.get_all_values()\n",
        "    df = pd.DataFrame(data[1:], columns=data[0])\n",
        "  except:\n",
        "      print (\"Table inexistante !\")\n",
        "  return df\n",
        "# usage : df = load_df_from_gsheet (table_name):\n",
        "\n",
        "def save_df_to_gsheet (wb, table_name, df):\n",
        "  try:\n",
        "    t_ = wb.worksheet(table_name)\n",
        "    wb.del_worksheet(t_)\n",
        "  except:\n",
        "      print (\"Onglet inexistant !\")\n",
        "      return False\n",
        "\n",
        "  wb.add_worksheet(table_name, 1, 1)\n",
        "  export_sheet = wb.worksheet(table_name)\n",
        "  set_with_dataframe(export_sheet, df)\n",
        "  return True"
      ],
      "metadata": {
        "id": "H_scd3XzTP7W"
      },
      "execution_count": 35,
      "outputs": []
    },
    {
      "cell_type": "code",
      "source": [
        "db_langdeck_farm_url = \"https://docs.google.com/spreadsheets/d/1JMVoxu4duz9d_0yhf0FOi9LjaMw6EE0GZO4Y_VvRAEg/\"\n",
        "#db-langdeck_farm\n",
        "sheet = db_langdeck_farm_url\n",
        "wb_farm  = gc.open_by_url(sheet)\n",
        "\n",
        "df = load_df_from_gsheet(wb_farm, \"countries\") # load source sheet"
      ],
      "metadata": {
        "id": "U8Bf-JhDm7ji"
      },
      "execution_count": 36,
      "outputs": []
    },
    {
      "cell_type": "code",
      "source": [
        "# CHECK\n",
        "for d in vk_wfb_dict:\n",
        "  m = df['country_iso2'].eq(d[\"alpha2\"])\n",
        "  if str(m.sum()) == 0:\n",
        "    print (d[\"alpha2\"] + \": not found\")"
      ],
      "metadata": {
        "id": "-Lx_JTGN6u3-"
      },
      "execution_count": 37,
      "outputs": []
    },
    {
      "cell_type": "code",
      "source": [
        "for d in vk_wfb_dict:\n",
        "  m = df['country_iso2'].eq(d[\"alpha2\"])\n",
        "  df.loc[m, 'wfb_facts'] = [d] * m.sum()"
      ],
      "metadata": {
        "id": "9cztE0XD1Ul9"
      },
      "execution_count": 38,
      "outputs": []
    },
    {
      "cell_type": "code",
      "source": [
        "save_df_to_gsheet(wb_farm, \"countries\",df)"
      ],
      "metadata": {
        "id": "EB5IIn8EnPEH",
        "colab": {
          "base_uri": "https://localhost:8080/"
        },
        "outputId": "a96354e7-0fa2-45b8-a332-6fa2771f721c"
      },
      "execution_count": 39,
      "outputs": [
        {
          "output_type": "execute_result",
          "data": {
            "text/plain": [
              "True"
            ]
          },
          "metadata": {},
          "execution_count": 39
        }
      ]
    },
    {
      "cell_type": "code",
      "source": [],
      "metadata": {
        "id": "8abouZl-4PSS"
      },
      "execution_count": null,
      "outputs": []
    }
  ],
  "metadata": {
    "colab": {
      "provenance": [],
      "authorship_tag": "ABX9TyPpi8pGAa0jvVcPCDcp2frd",
      "include_colab_link": true
    },
    "kernelspec": {
      "display_name": "Python 3",
      "name": "python3"
    },
    "language_info": {
      "name": "python"
    }
  },
  "nbformat": 4,
  "nbformat_minor": 0
}